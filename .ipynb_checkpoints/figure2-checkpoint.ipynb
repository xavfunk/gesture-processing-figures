{
 "cells": [
  {
   "cell_type": "code",
   "execution_count": 1,
   "metadata": {},
   "outputs": [],
   "source": [
    "from nilearn import image\n",
    "from nilearn import plotting\n",
    "from nilearn import surface\n",
    "from nilearn import datasets\n",
    "from nilearn.datasets import MNI152_FILE_PATH\n",
    "from matplotlib import pyplot as plt\n",
    "from matplotlib.colors import Normalize\n",
    "import matplotlib.patches as mpatches\n",
    "import numpy as np"
   ]
  },
  {
   "cell_type": "code",
   "execution_count": 2,
   "metadata": {},
   "outputs": [
    {
     "ename": "ValueError",
     "evalue": "File not found: 'ST_SurprisalParam_16.12\\flexibleFactorial\\surprisal_both_p001k89.nii'",
     "output_type": "error",
     "traceback": [
      "\u001b[1;31m---------------------------------------------------------------------------\u001b[0m",
      "\u001b[1;31mValueError\u001b[0m                                Traceback (most recent call last)",
      "\u001b[1;32m<ipython-input-2-90eba8c98521>\u001b[0m in \u001b[0;36m<module>\u001b[1;34m\u001b[0m\n\u001b[0;32m     12\u001b[0m \u001b[1;31m#plotting.plot_stat_map(entropy_main)\u001b[0m\u001b[1;33m\u001b[0m\u001b[1;33m\u001b[0m\u001b[1;33m\u001b[0m\u001b[0m\n\u001b[0;32m     13\u001b[0m \u001b[0mdisplay\u001b[0m \u001b[1;33m=\u001b[0m \u001b[0mplt\u001b[0m\u001b[1;33m.\u001b[0m\u001b[0mfigure\u001b[0m\u001b[1;33m(\u001b[0m\u001b[1;33m)\u001b[0m\u001b[1;33m\u001b[0m\u001b[1;33m\u001b[0m\u001b[0m\n\u001b[1;32m---> 14\u001b[1;33m \u001b[0mdisplay\u001b[0m \u001b[1;33m=\u001b[0m \u001b[0mplotting\u001b[0m\u001b[1;33m.\u001b[0m\u001b[0mplot_glass_brain\u001b[0m\u001b[1;33m(\u001b[0m\u001b[0msurprisal_main\u001b[0m\u001b[1;33m,\u001b[0m \u001b[0mdisplay_mode\u001b[0m \u001b[1;33m=\u001b[0m \u001b[1;34m'lzr'\u001b[0m\u001b[1;33m)\u001b[0m\u001b[1;31m#, colorbar = True)\u001b[0m\u001b[1;33m\u001b[0m\u001b[1;33m\u001b[0m\u001b[0m\n\u001b[0m\u001b[0;32m     15\u001b[0m \u001b[0mdisplay\u001b[0m\u001b[1;33m.\u001b[0m\u001b[0madd_overlay\u001b[0m\u001b[1;33m(\u001b[0m\u001b[0mentropy_main\u001b[0m\u001b[1;33m,\u001b[0m \u001b[0mcmap\u001b[0m\u001b[1;33m=\u001b[0m \u001b[0mplotting\u001b[0m\u001b[1;33m.\u001b[0m\u001b[0mcm\u001b[0m\u001b[1;33m.\u001b[0m\u001b[0mblack_purple_r\u001b[0m\u001b[1;33m,\u001b[0m \u001b[0mvmin\u001b[0m \u001b[1;33m=\u001b[0m \u001b[1;36m2\u001b[0m\u001b[1;33m)\u001b[0m\u001b[1;31m#, colorbar = True) #vmin is really important to make the colors work properly\u001b[0m\u001b[1;33m\u001b[0m\u001b[1;33m\u001b[0m\u001b[0m\n\u001b[0;32m     16\u001b[0m \u001b[1;31m#display.plotting.plot_glass_brain(entropy_main, display_mode = 'lzry',cmap= plotting.cm.black_purple)\u001b[0m\u001b[1;33m\u001b[0m\u001b[1;33m\u001b[0m\u001b[1;33m\u001b[0m\u001b[0m\n",
      "\u001b[1;32m~\\Anaconda3\\lib\\site-packages\\nilearn\\plotting\\img_plotting.py\u001b[0m in \u001b[0;36mplot_glass_brain\u001b[1;34m(stat_map_img, output_file, display_mode, colorbar, figure, axes, title, threshold, annotate, black_bg, cmap, alpha, vmin, vmax, plot_abs, symmetric_cbar, resampling_interpolation, **kwargs)\u001b[0m\n\u001b[0;32m   1273\u001b[0m \u001b[1;33m\u001b[0m\u001b[0m\n\u001b[0;32m   1274\u001b[0m     \u001b[1;32mif\u001b[0m \u001b[0mstat_map_img\u001b[0m\u001b[1;33m:\u001b[0m\u001b[1;33m\u001b[0m\u001b[1;33m\u001b[0m\u001b[0m\n\u001b[1;32m-> 1275\u001b[1;33m         \u001b[0mstat_map_img\u001b[0m \u001b[1;33m=\u001b[0m \u001b[0m_utils\u001b[0m\u001b[1;33m.\u001b[0m\u001b[0mcheck_niimg_3d\u001b[0m\u001b[1;33m(\u001b[0m\u001b[0mstat_map_img\u001b[0m\u001b[1;33m,\u001b[0m \u001b[0mdtype\u001b[0m\u001b[1;33m=\u001b[0m\u001b[1;34m'auto'\u001b[0m\u001b[1;33m)\u001b[0m\u001b[1;33m\u001b[0m\u001b[1;33m\u001b[0m\u001b[0m\n\u001b[0m\u001b[0;32m   1276\u001b[0m         \u001b[1;32mif\u001b[0m \u001b[0mplot_abs\u001b[0m\u001b[1;33m:\u001b[0m\u001b[1;33m\u001b[0m\u001b[1;33m\u001b[0m\u001b[0m\n\u001b[0;32m   1277\u001b[0m             cbar_vmin, cbar_vmax, vmin, vmax = _get_colorbar_and_data_ranges(\n",
      "\u001b[1;32m~\\Anaconda3\\lib\\site-packages\\nilearn\\_utils\\niimg_conversions.py\u001b[0m in \u001b[0;36mcheck_niimg_3d\u001b[1;34m(niimg, dtype)\u001b[0m\n\u001b[0;32m    314\u001b[0m     \u001b[0mIts\u001b[0m \u001b[0mapplication\u001b[0m \u001b[1;32mis\u001b[0m \u001b[0midempotent\u001b[0m\u001b[1;33m.\u001b[0m\u001b[1;33m\u001b[0m\u001b[1;33m\u001b[0m\u001b[0m\n\u001b[0;32m    315\u001b[0m     \"\"\"\n\u001b[1;32m--> 316\u001b[1;33m     \u001b[1;32mreturn\u001b[0m \u001b[0mcheck_niimg\u001b[0m\u001b[1;33m(\u001b[0m\u001b[0mniimg\u001b[0m\u001b[1;33m,\u001b[0m \u001b[0mensure_ndim\u001b[0m\u001b[1;33m=\u001b[0m\u001b[1;36m3\u001b[0m\u001b[1;33m,\u001b[0m \u001b[0mdtype\u001b[0m\u001b[1;33m=\u001b[0m\u001b[0mdtype\u001b[0m\u001b[1;33m)\u001b[0m\u001b[1;33m\u001b[0m\u001b[1;33m\u001b[0m\u001b[0m\n\u001b[0m\u001b[0;32m    317\u001b[0m \u001b[1;33m\u001b[0m\u001b[0m\n\u001b[0;32m    318\u001b[0m \u001b[1;33m\u001b[0m\u001b[0m\n",
      "\u001b[1;32m~\\Anaconda3\\lib\\site-packages\\nilearn\\_utils\\niimg_conversions.py\u001b[0m in \u001b[0;36mcheck_niimg\u001b[1;34m(niimg, ensure_ndim, atleast_4d, dtype, return_iterator, wildcards)\u001b[0m\n\u001b[0;32m    249\u001b[0m                 \u001b[1;32mraise\u001b[0m \u001b[0mValueError\u001b[0m\u001b[1;33m(\u001b[0m\u001b[0mmessage\u001b[0m\u001b[1;33m)\u001b[0m\u001b[1;33m\u001b[0m\u001b[1;33m\u001b[0m\u001b[0m\n\u001b[0;32m    250\u001b[0m             \u001b[1;32melse\u001b[0m\u001b[1;33m:\u001b[0m\u001b[1;33m\u001b[0m\u001b[1;33m\u001b[0m\u001b[0m\n\u001b[1;32m--> 251\u001b[1;33m                 \u001b[1;32mraise\u001b[0m \u001b[0mValueError\u001b[0m\u001b[1;33m(\u001b[0m\u001b[1;34m\"File not found: '%s'\"\u001b[0m \u001b[1;33m%\u001b[0m \u001b[0mniimg\u001b[0m\u001b[1;33m)\u001b[0m\u001b[1;33m\u001b[0m\u001b[1;33m\u001b[0m\u001b[0m\n\u001b[0m\u001b[0;32m    252\u001b[0m         \u001b[1;32melif\u001b[0m \u001b[1;32mnot\u001b[0m \u001b[0mos\u001b[0m\u001b[1;33m.\u001b[0m\u001b[0mpath\u001b[0m\u001b[1;33m.\u001b[0m\u001b[0mexists\u001b[0m\u001b[1;33m(\u001b[0m\u001b[0mniimg\u001b[0m\u001b[1;33m)\u001b[0m\u001b[1;33m:\u001b[0m\u001b[1;33m\u001b[0m\u001b[1;33m\u001b[0m\u001b[0m\n\u001b[0;32m    253\u001b[0m             \u001b[1;32mraise\u001b[0m \u001b[0mValueError\u001b[0m\u001b[1;33m(\u001b[0m\u001b[1;34m\"File not found: '%s'\"\u001b[0m \u001b[1;33m%\u001b[0m \u001b[0mniimg\u001b[0m\u001b[1;33m)\u001b[0m\u001b[1;33m\u001b[0m\u001b[1;33m\u001b[0m\u001b[0m\n",
      "\u001b[1;31mValueError\u001b[0m: File not found: 'ST_SurprisalParam_16.12\\flexibleFactorial\\surprisal_both_p001k89.nii'"
     ]
    },
    {
     "data": {
      "text/plain": [
       "<Figure size 432x288 with 0 Axes>"
      ]
     },
     "metadata": {},
     "output_type": "display_data"
    }
   ],
   "source": [
    "#path = \"ST_SurprisalParam_16.12\\\\flexibleFactorial\\\\beta_0001.nii\"\n",
    "entropy_main = \"ST_EntropyParam_16.12\\\\flexibleFactorial\\\\NegEntropy_both_p001_k89.nii\"\n",
    "surprisal_main = \"ST_SurprisalParam_16.12\\\\flexibleFactorial\\\\surprisal_both_p001k89.nii\"\n",
    "#path = 'ST_SurprisalParam_16.12\\\\flexibleFactorial\\\\spmT_0003.nii'\n",
    "#path = 'SurprisalParam_24.10\\\\2ndLvl\\\\Surprisal\\\\spmT_0001.nii' # old prepro\n",
    "\n",
    "# artist proxies for legend\n",
    "red_patch = mpatches.Patch(color='red', label='Surprisal Increase')\n",
    "blue_patch = mpatches.Patch(color='blue', label='Entropy Decrease')\n",
    "\n",
    "#img = plt.imread(path)\n",
    "#plotting.plot_stat_map(entropy_main)\n",
    "display = plt.figure() \n",
    "display = plotting.plot_glass_brain(surprisal_main, display_mode = 'lzr')#, colorbar = True) \n",
    "display.add_overlay(entropy_main, cmap= plotting.cm.black_purple_r, vmin = 2)#, colorbar = True) #vmin is really important to make the colors work properly\n",
    "#display.plotting.plot_glass_brain(entropy_main, display_mode = 'lzry',cmap= plotting.cm.black_purple)\n",
    "\n",
    "#display.legend([red_patch, blue_patch],['Surprisal Increase', 'Entropy Decrease'], bbox_to_anchor=(1.05, 1), loc='upper left', borderaxespad=0.)\n",
    "display.savefig(\"Figure2_full_highres.png\", dpi = 200)\n",
    "\n",
    "#dis = plotting.plot_glass_brain(surprisal_main) #, threshold=3, colorbar = True,)# display_mode = 'lzry')\n",
    "#dis.add_overlay(entropy_main, cmap= plotting.cm.black_blue_r, vmin = 0) #different vmin values make the colors brighter/darker\n",
    "\n",
    "# artist proxies for legend\n",
    "#red_patch = mpatches.Patch(color='red', label='Surprisal Increase')\n",
    "#blue_patch = mpatches.Patch(color='blue', label='Entropy Decrease')\n",
    "\n",
    "plt.legend([red_patch, blue_patch],['Surprisal Increase', 'Entropy Decrease'], bbox_to_anchor=(1.05, 1), loc='upper left', borderaxespad=0.)"
   ]
  },
  {
   "cell_type": "markdown",
   "metadata": {},
   "source": [
    "## Figure 2\n",
    "\n",
    "Glass brain representation of activations associated with increase in suprisal (red) or decrease in next-word entropy (p = 0.001). Color indicates activation strength (T-values)."
   ]
  },
  {
   "cell_type": "code",
   "execution_count": null,
   "metadata": {},
   "outputs": [],
   "source": [
    "# finding out threshold of entropy_dec_NK_K\n",
    "import nibabel as nib\n",
    "\n",
    "def find_threshold(imagepath):\n",
    "    \"\"\"\n",
    "    This function takes a path to a Nifti image,\n",
    "    loads it, and gives you the smallest value.\n",
    "    Useful for identifying the threshold you used \n",
    "    as a T-value im thresholded SPMs\n",
    "    \"\"\"\n",
    "    \n",
    "    img = nib.load(imagepath) # load Nifti\n",
    "    dat = np.array(img.get_fdata()) # load image into numpy array\n",
    "    dat = dat[~np.isnan(dat)] # remove all nan\n",
    "    return np.min(dat) # this is the threshold, in T-values\n",
    "\n",
    "#print(find_threshold(entropy_dec_NK_K))\n"
   ]
  }
 ],
 "metadata": {
  "kernelspec": {
   "display_name": "Python 3",
   "language": "python",
   "name": "python3"
  },
  "language_info": {
   "codemirror_mode": {
    "name": "ipython",
    "version": 3
   },
   "file_extension": ".py",
   "mimetype": "text/x-python",
   "name": "python",
   "nbconvert_exporter": "python",
   "pygments_lexer": "ipython3",
   "version": "3.7.4"
  }
 },
 "nbformat": 4,
 "nbformat_minor": 2
}
