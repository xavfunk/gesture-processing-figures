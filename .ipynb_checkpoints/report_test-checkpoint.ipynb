{
 "cells": [
  {
   "cell_type": "markdown",
   "metadata": {},
   "source": [
    "# Figure1: Example sentence illustrating measures used in GLM analysis\n",
    "This notebook contains all code used to set up figure 1, which illustrates the measures used in GLM analysis.\n",
    "\n",
    "#### Measures of interest:\n",
    "\n",
    "- next-word entropy\n",
    "- surprisal\n",
    "\n",
    "\\begin{itemize}\n",
    "\\tightlist\n",
    "\\item\n",
    "  next-word entropy\n",
    "\\item\n",
    "  surprisal\n",
    "\\end{itemize}\n",
    "$$c = \\sqrt{a^2 + b^2}$$\n",
    "\n",
    "## double\n",
    "### triple\n",
    "#### Measures of no interest:\n",
    "\n",
    "\n",
    "\n",
    "<ul>\n",
    "    <li>word frequency</li>\n",
    "    <li>instantaneous visual change (IVC), contolling for actor movement</li>\n",
    "    <li>audio envelope, controlling for low-level auditory effects</li>\n",
    "</ul>\n"
   ]
  },
  {
   "cell_type": "markdown",
   "metadata": {},
   "source": [
    "\n",
    "\\begin{itemize}\n",
    "\\tightlist\n",
    "\\item\n",
    "  next-word entropy\n",
    "\\item\n",
    "  surprisal\n",
    "\\end{itemize}"
   ]
  }
 ],
 "metadata": {
  "kernelspec": {
   "display_name": "Python 3",
   "language": "python",
   "name": "python3"
  },
  "language_info": {
   "codemirror_mode": {
    "name": "ipython",
    "version": 3
   },
   "file_extension": ".py",
   "mimetype": "text/x-python",
   "name": "python",
   "nbconvert_exporter": "python",
   "pygments_lexer": "ipython3",
   "version": "3.8.5"
  }
 },
 "nbformat": 4,
 "nbformat_minor": 4
}
